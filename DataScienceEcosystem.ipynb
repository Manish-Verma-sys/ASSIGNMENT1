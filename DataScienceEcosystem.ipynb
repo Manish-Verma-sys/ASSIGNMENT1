{
  "metadata": {
    "kernelspec": {
      "name": "python",
      "display_name": "Python (Pyodide)",
      "language": "python"
    },
    "language_info": {
      "codemirror_mode": {
        "name": "python",
        "version": 3
      },
      "file_extension": ".py",
      "mimetype": "text/x-python",
      "name": "python",
      "nbconvert_exporter": "python",
      "pygments_lexer": "ipython3",
      "version": "3.8"
    }
  },
  "nbformat_minor": 4,
  "nbformat": 4,
  "cells": [
    {
      "cell_type": "code",
      "source": "# Data Science Tools and Ecosystem",
      "metadata": {
        "trusted": true
      },
      "outputs": [],
      "execution_count": null
    },
    {
      "cell_type": "code",
      "source": "## Introduction\nThis notebook explores various aspects of data science, including languages, libraries, and tools used in the field.",
      "metadata": {
        "trusted": true
      },
      "outputs": [],
      "execution_count": null
    },
    {
      "cell_type": "code",
      "source": "## Data Science Languages\nprint(\"Listing some data science languages\")\nprint(\"Python\")\nprint(\"R\")\nprint(\"Java\")\nprint(\"C\")\nprint(\"C++\")\nprint(\"SQL\")\nprint(\"Ruby\")\nprint(\"Anaconda\")\n\n",
      "metadata": {
        "trusted": true,
        "scrolled": true
      },
      "outputs": [
        {
          "name": "stdout",
          "text": "Listing some data science languages\nPython\nR\nJava\nC\nC++\nSQL\nRuby\nAnaconda\n",
          "output_type": "stream"
        }
      ],
      "execution_count": 2
    },
    {
      "cell_type": "code",
      "source": "## Data Science Libraries\nprint(\"Listing some data science libraries\")\nprint(\"Numpy\")\nprint(\"ggplot\")\nprint(\"pandas\")\nprint(\"Matplotlib\")\nprint(\"Plotly\")\nprint(\"Stringr\")\nprint(\"Caret\")\nprint(\"Lattice\")",
      "metadata": {
        "trusted": true
      },
      "outputs": [
        {
          "name": "stdout",
          "text": "Listing some data science libraries\nNumpy\nggplot\npandas\nMatplotlib\nPlotly\nStringr\nCaret\nLattice\n",
          "output_type": "stream"
        }
      ],
      "execution_count": 3
    },
    {
      "cell_type": "code",
      "source": "## Data Science Tools\nprint(\"| Tool       | Description           |\")\nprint(\"|------------|-----------------------|\")\nprint(\"| Jupyter    | Interactive notebooks |\")\nprint(\"| TensorFlow | Machine learning      |\")\nprint(\"| scikit-learn | Machine learning     |\")\n\n",
      "metadata": {
        "trusted": true
      },
      "outputs": [
        {
          "name": "stdout",
          "text": "| Tool       | Description           |\n|------------|-----------------------|\n| Jupyter    | Interactive notebooks |\n| TensorFlow | Machine learning      |\n| scikit-learn | Machine learning     |\n",
          "output_type": "stream"
        }
      ],
      "execution_count": 4
    },
    {
      "cell_type": "code",
      "source": "## Arithmetic Expression Examples\n#Let's explore some basic arithmetic operations.\nprint(\"calculating speed of a bicycle\")\nd=40\nprint(\"distance in km\", d)\nt=1\nprint(\"time in hr\", t)\ns=d/t\nprint(\"the speed of bicycle is\",s,\"km/hr\")",
      "metadata": {
        "trusted": true
      },
      "outputs": [
        {
          "name": "stdout",
          "text": "calculating speed of a bicycle\ndistance in km 40\ntime in hr 1\nthe speed of bicycle is 40.0 km/hr\n",
          "output_type": "stream"
        }
      ],
      "execution_count": 9
    },
    {
      "cell_type": "code",
      "source": "# Multiply and add numbers\na = 3\nb = 4\nc = 5\nmultiply_result = a * b\nadd_result = a + b\nexpression = (a*b)+c\nprint (\"The multiplication is\", multiply_result, \"and/or addition is\", add_result, \"and/or exp[ression is\", expression)\n",
      "metadata": {
        "trusted": true
      },
      "outputs": [
        {
          "name": "stdout",
          "text": "The multiplication is 12 and/or addition is 7 and/or exp[ression is 17\n",
          "output_type": "stream"
        }
      ],
      "execution_count": 16
    },
    {
      "cell_type": "code",
      "source": "# Convert minutes to hours\nminutes = 200\nhours = minutes / 60\nhours\n",
      "metadata": {
        "trusted": true
      },
      "outputs": [
        {
          "execution_count": 14,
          "output_type": "execute_result",
          "data": {
            "text/plain": "3.3333333333333335"
          },
          "metadata": {}
        }
      ],
      "execution_count": 14
    },
    {
      "cell_type": "code",
      "source": "## Objectives\nprint(\"**Objectives:**\\n\")\nprint(\"- List popular languages for Data Science.\")\nprint(\"PYTHON, R, SQL, JAVA, C, C++, HTML, RUBY\\n\")\nprint(\"- Introduce common libraries used in Data Science.\")\nprint(\"Numpy\\n\"\n      \"ggplot\\n\"\n      \"pandas\\n\"\n      \"Matplotlib\\n\"\n      \"Plotly\\n\"\n      \"Stringr\\n\"\n      \"Caret\\n\"\n      \"Lattice\\n\")\nprint(\"- Explore the basics of Jupyter Notebooks.\\n\")\nprint(\"Jupyter Notebooks are a powerful, open-source web application used for interactive computing across various fields, particularly in data science and machine learning. They allow users to create and share documents containing live code, equations, visualizations, and narrative text. Notebooks are organized into cells that can contain either code or Markdown text. The kernel executes the code cells and displays the output immediately below them, making it easy to iteratively test and refine code. Markdown cells support text formatting for documentation purposes. Jupyter supports multiple programming languages, although Python is the most common. Users can visualize data using libraries like Matplotlib and Seaborn directly within the notebook. Notebooks can be saved in .ipynb format and exported to formats such as HTML or PDF. Essential features include the ability to run cells, add or delete cells, and switch between edit and command modes. With extensive support for extensions and customization, Jupyter Notebooks enhance productivity and collaboration, making them an indispensable tool for modern computational work. To get started, install Jupyter via pip or Anaconda, then launch it from your terminal to open the Jupyter dashboard in your web browser.\")\n",
      "metadata": {
        "trusted": true
      },
      "outputs": [
        {
          "name": "stdout",
          "text": "**Objectives:**\n\n- List popular languages for Data Science.\nPYTHON, R, SQL, JAVA, C, C++, HTML, RUBY\n\n- Introduce common libraries used in Data Science.\nNumpy\nggplot\npandas\nMatplotlib\nPlotly\nStringr\nCaret\nLattice\n\n- Explore the basics of Jupyter Notebooks.\n\nJupyter Notebooks are a powerful, open-source web application used for interactive computing across various fields, particularly in data science and machine learning. They allow users to create and share documents containing live code, equations, visualizations, and narrative text. Notebooks are organized into cells that can contain either code or Markdown text. The kernel executes the code cells and displays the output immediately below them, making it easy to iteratively test and refine code. Markdown cells support text formatting for documentation purposes. Jupyter supports multiple programming languages, although Python is the most common. Users can visualize data using libraries like Matplotlib and Seaborn directly within the notebook. Notebooks can be saved in .ipynb format and exported to formats such as HTML or PDF. Essential features include the ability to run cells, add or delete cells, and switch between edit and command modes. With extensive support for extensions and customization, Jupyter Notebooks enhance productivity and collaboration, making them an indispensable tool for modern computational work. To get started, install Jupyter via pip or Anaconda, then launch it from your terminal to open the Jupyter dashboard in your web browser.\n",
          "output_type": "stream"
        }
      ],
      "execution_count": 15
    },
    {
      "cell_type": "code",
      "source": "## Author\nprint(\"Author of the Notebook is Manish_Verma\")\n",
      "metadata": {
        "trusted": true
      },
      "outputs": [],
      "execution_count": null
    },
    {
      "cell_type": "code",
      "source": "",
      "metadata": {
        "trusted": true
      },
      "outputs": [],
      "execution_count": null
    }
  ]
}